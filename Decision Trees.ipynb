{
 "cells": [
  {
   "cell_type": "markdown",
   "metadata": {},
   "source": [
    "<h2><center> Decision Trees </center></h2>"
   ]
  },
  {
   "cell_type": "markdown",
   "metadata": {},
   "source": [
    "The main goal of this notebook is to see the differences between a single decision tree, bagging decision tree ensemble, random forest and boosting by using the scikit-learn library"
   ]
  },
  {
   "cell_type": "code",
   "execution_count": 1,
   "metadata": {},
   "outputs": [],
   "source": [
    "import numpy as np\n",
    "import pandas as pd \n",
    "import matplotlib.pyplot as plt\n",
    "import seaborn as sns\n",
    "sns.set()\n",
    "\n",
    "import warnings\n",
    "warnings.filterwarnings('ignore')"
   ]
  },
  {
   "cell_type": "code",
   "execution_count": 2,
   "metadata": {},
   "outputs": [
    {
     "name": "stdout",
     "output_type": "stream",
     "text": [
      "<class 'pandas.core.frame.DataFrame'>\n",
      "RangeIndex: 20640 entries, 0 to 20639\n",
      "Data columns (total 8 columns):\n",
      " #   Column      Non-Null Count  Dtype  \n",
      "---  ------      --------------  -----  \n",
      " 0   MedInc      20640 non-null  float64\n",
      " 1   HouseAge    20640 non-null  float64\n",
      " 2   AveRooms    20640 non-null  float64\n",
      " 3   AveBedrms   20640 non-null  float64\n",
      " 4   Population  20640 non-null  float64\n",
      " 5   AveOccup    20640 non-null  float64\n",
      " 6   Latitude    20640 non-null  float64\n",
      " 7   Longitude   20640 non-null  float64\n",
      "dtypes: float64(8)\n",
      "memory usage: 1.3 MB\n"
     ]
    }
   ],
   "source": [
    "from sklearn.datasets import fetch_california_housing as cal \n",
    "\n",
    "data = cal(as_frame=True)\n",
    "X = data['data']\n",
    "y = data['target']\n",
    "\n",
    "X.info()"
   ]
  },
  {
   "cell_type": "code",
   "execution_count": 3,
   "metadata": {},
   "outputs": [
    {
     "data": {
      "text/html": [
       "<div>\n",
       "<style scoped>\n",
       "    .dataframe tbody tr th:only-of-type {\n",
       "        vertical-align: middle;\n",
       "    }\n",
       "\n",
       "    .dataframe tbody tr th {\n",
       "        vertical-align: top;\n",
       "    }\n",
       "\n",
       "    .dataframe thead th {\n",
       "        text-align: right;\n",
       "    }\n",
       "</style>\n",
       "<table border=\"1\" class=\"dataframe\">\n",
       "  <thead>\n",
       "    <tr style=\"text-align: right;\">\n",
       "      <th></th>\n",
       "      <th>MedInc</th>\n",
       "      <th>HouseAge</th>\n",
       "      <th>AveRooms</th>\n",
       "      <th>AveBedrms</th>\n",
       "      <th>Population</th>\n",
       "      <th>AveOccup</th>\n",
       "      <th>Latitude</th>\n",
       "      <th>Longitude</th>\n",
       "    </tr>\n",
       "  </thead>\n",
       "  <tbody>\n",
       "    <tr>\n",
       "      <th>0</th>\n",
       "      <td>8.3252</td>\n",
       "      <td>41.0</td>\n",
       "      <td>6.984127</td>\n",
       "      <td>1.023810</td>\n",
       "      <td>322.0</td>\n",
       "      <td>2.555556</td>\n",
       "      <td>37.88</td>\n",
       "      <td>-122.23</td>\n",
       "    </tr>\n",
       "    <tr>\n",
       "      <th>1</th>\n",
       "      <td>8.3014</td>\n",
       "      <td>21.0</td>\n",
       "      <td>6.238137</td>\n",
       "      <td>0.971880</td>\n",
       "      <td>2401.0</td>\n",
       "      <td>2.109842</td>\n",
       "      <td>37.86</td>\n",
       "      <td>-122.22</td>\n",
       "    </tr>\n",
       "    <tr>\n",
       "      <th>2</th>\n",
       "      <td>7.2574</td>\n",
       "      <td>52.0</td>\n",
       "      <td>8.288136</td>\n",
       "      <td>1.073446</td>\n",
       "      <td>496.0</td>\n",
       "      <td>2.802260</td>\n",
       "      <td>37.85</td>\n",
       "      <td>-122.24</td>\n",
       "    </tr>\n",
       "    <tr>\n",
       "      <th>3</th>\n",
       "      <td>5.6431</td>\n",
       "      <td>52.0</td>\n",
       "      <td>5.817352</td>\n",
       "      <td>1.073059</td>\n",
       "      <td>558.0</td>\n",
       "      <td>2.547945</td>\n",
       "      <td>37.85</td>\n",
       "      <td>-122.25</td>\n",
       "    </tr>\n",
       "    <tr>\n",
       "      <th>4</th>\n",
       "      <td>3.8462</td>\n",
       "      <td>52.0</td>\n",
       "      <td>6.281853</td>\n",
       "      <td>1.081081</td>\n",
       "      <td>565.0</td>\n",
       "      <td>2.181467</td>\n",
       "      <td>37.85</td>\n",
       "      <td>-122.25</td>\n",
       "    </tr>\n",
       "  </tbody>\n",
       "</table>\n",
       "</div>"
      ],
      "text/plain": [
       "   MedInc  HouseAge  AveRooms  AveBedrms  Population  AveOccup  Latitude  \\\n",
       "0  8.3252      41.0  6.984127   1.023810       322.0  2.555556     37.88   \n",
       "1  8.3014      21.0  6.238137   0.971880      2401.0  2.109842     37.86   \n",
       "2  7.2574      52.0  8.288136   1.073446       496.0  2.802260     37.85   \n",
       "3  5.6431      52.0  5.817352   1.073059       558.0  2.547945     37.85   \n",
       "4  3.8462      52.0  6.281853   1.081081       565.0  2.181467     37.85   \n",
       "\n",
       "   Longitude  \n",
       "0    -122.23  \n",
       "1    -122.22  \n",
       "2    -122.24  \n",
       "3    -122.25  \n",
       "4    -122.25  "
      ]
     },
     "execution_count": 3,
     "metadata": {},
     "output_type": "execute_result"
    }
   ],
   "source": [
    "X.head()"
   ]
  },
  {
   "cell_type": "code",
   "execution_count": 4,
   "metadata": {
    "scrolled": true
   },
   "outputs": [
    {
     "data": {
      "text/plain": [
       "0    4.526\n",
       "1    3.585\n",
       "2    3.521\n",
       "3    3.413\n",
       "4    3.422\n",
       "Name: MedHouseVal, dtype: float64"
      ]
     },
     "execution_count": 4,
     "metadata": {},
     "output_type": "execute_result"
    }
   ],
   "source": [
    "y.head()"
   ]
  },
  {
   "cell_type": "code",
   "execution_count": 5,
   "metadata": {},
   "outputs": [],
   "source": [
    "from sklearn.model_selection import train_test_split\n",
    "\n",
    "X_train, X_test, y_train, y_test = train_test_split(X, y,\n",
    "                                                   test_size=0.30)"
   ]
  },
  {
   "cell_type": "code",
   "execution_count": 10,
   "metadata": {},
   "outputs": [],
   "source": [
    "from sklearn.ensemble import BaggingRegressor\n",
    "from sklearn.ensemble import RandomForestRegressor\n",
    "from sklearn.tree import DecisionTreeRegressor\n",
    "from sklearn.metrics import mean_squared_error\n",
    "\n",
    "dt = DecisionTreeRegressor()"
   ]
  },
  {
   "cell_type": "code",
   "execution_count": 9,
   "metadata": {},
   "outputs": [],
   "source": [
    "import numpy as np\n",
    "from scipy import stats\n",
    "import random\n",
    "\n",
    "eps = 1e-5\n",
    "\n",
    "random.seed(5)\n",
    "np.random.seed(5)\n",
    "\n",
    "class DecisionTree:\n",
    "    def __init__(self, max_depth=3, criterion='entropy', max_features=None, feature_labels=None, i=0):\n",
    "        self.max_depth = max_depth\n",
    "        self.features = feature_labels\n",
    "        self.left, self.right = None, None  # for non-leaf nodes\n",
    "        self.split_idx, self.thresh = None, None  # for non-leaf nodes\n",
    "        self.data, self.pred = None, None  # for leaf nodes\n",
    "        self.max_features = max_features\n",
    "        self.chosen_cols = []\n",
    "        self.criterion = criterion\n",
    "        if self.criterion != 'entropy' and self.criterion != 'gini':\n",
    "            raise Exception('Criterion can be either gini or entropy')\n",
    "\n",
    "        self.i = max_depth\n",
    "\n",
    "    def information_gain(self, X, y, thresh):\n",
    "        idx0 = np.where(X < thresh)\n",
    "        idx1 = np.where(X > thresh)\n",
    "        y_0 = y[idx0]\n",
    "        y_1 = y[idx1]\n",
    "        if self.criterion == 'entropy':\n",
    "            value_before = DecisionTree.entropy(y)\n",
    "            value_after = (len(y_0) * DecisionTree.entropy(y_0) + len(y_1) * DecisionTree.entropy(y_1)) / (\n",
    "                    len(y_0) + len(y_1))\n",
    "        else:\n",
    "            value_before = DecisionTree.gini_impurity(y)\n",
    "            value_after = (len(y_0) * DecisionTree.gini_impurity(y_0) + len(y_1) * DecisionTree.gini_impurity(y_1)) / (\n",
    "                    len(y_0) + len(y_1))\n",
    "        gain = value_before - value_after\n",
    "        return gain\n",
    "\n",
    "    @staticmethod\n",
    "    def entropy(y):\n",
    "        vals, counts = np.unique(y, return_counts=True)\n",
    "        return stats.entropy(counts, base=2)\n",
    "\n",
    "    @staticmethod\n",
    "    def gini_impurity(y):\n",
    "        vals, counts = np.unique(y, return_counts=True)\n",
    "        summed = 0\n",
    "        total = sum(counts)\n",
    "        for i in counts:\n",
    "            prob = (i / total) ** 2\n",
    "            summed += prob\n",
    "        return 1 - summed\n",
    "\n",
    "    @staticmethod\n",
    "    def split_test(X, idx, thresh):\n",
    "        idx0 = np.where(X[:, idx] < thresh)[0]\n",
    "        idx1 = np.where(X[:, idx] >= thresh)[0]\n",
    "        X0, X1 = X[idx0, :], X[idx1, :]\n",
    "        return X0, idx0, X1, idx1\n",
    "\n",
    "    def split(self, X, y, idx, thresh):\n",
    "        X0, idx0, X1, idx1 = self.split_test(X, idx=idx, thresh=thresh)\n",
    "        y0, y1 = y[idx0], y[idx1]\n",
    "        return X0, y0, X1, y1\n",
    "\n",
    "    def choose_columns(self, ncols):\n",
    "        if self.max_features == 'sqrt':\n",
    "            self.max_features = int(np.sqrt(ncols))\n",
    "        elif type(self.max_features) == str:\n",
    "            raise ValueError('max_features can be either \"sqrt\" or an integer between 1 and number of columns')\n",
    "        elif self.max_features > ncols:\n",
    "            raise ValueError('max_features cannot exceed number of total columns')\n",
    "        elif self.max_features < 1:\n",
    "            raise ValueError('max_features cannot be less than 1')\n",
    "        column_idx = np.arange(ncols)\n",
    "        self.chosen_cols = np.random.choice(column_idx, size=self.max_features, replace=False)\n",
    "\n",
    "    def fit(self, X, y):\n",
    "        assert type(X) == np.ndarray, 'Given data must be np.ndarray'\n",
    "        assert type(y) == np.ndarray, 'Given data must be np.ndarray'\n",
    "\n",
    "        if self.max_depth > 0:\n",
    "            if self.max_features is not None:\n",
    "                self.choose_columns(ncols=X.shape[1])\n",
    "            # compute entropy gain for all single-dimension splits,\n",
    "            # thresholding with a linear interpolation of 10 values\n",
    "            gains = []\n",
    "            # The following logic prevents thresholding on exactly the minimum\n",
    "            # or maximum values, which may not lead to any meaningful node\n",
    "            # splits.\n",
    "            thresh = np.array([\n",
    "                np.linspace(np.min(X[:, i]) + eps, np.max(X[:, i]) - eps, num=10)\n",
    "                for i in range(X.shape[1])\n",
    "            ])\n",
    "            for i in range(X.shape[1]):\n",
    "                if len(self.chosen_cols) > 0:\n",
    "                    if i not in self.chosen_cols:\n",
    "                        gains.append([-1] * 10)\n",
    "                    else:\n",
    "                        gains.append([self.information_gain(X[:, i], y, t) for t in thresh[i, :]])\n",
    "                else:\n",
    "                    gains.append([self.information_gain(X[:, i], y, t) for t in thresh[i, :]])\n",
    "\n",
    "            gains = np.nan_to_num(np.array(gains))\n",
    "            self.split_idx, thresh_idx = np.unravel_index(np.argmax(gains), gains.shape)\n",
    "            self.thresh = thresh[self.split_idx, thresh_idx]\n",
    "            X0, y0, X1, y1 = self.split(X, y, idx=self.split_idx, thresh=self.thresh)\n",
    "            if X0.size > 0 and X1.size > 0:\n",
    "                self.left = DecisionTree(\n",
    "                    max_depth=self.max_depth - 1,\n",
    "                    criterion=self.criterion,\n",
    "                    max_features=self.max_features,\n",
    "                    feature_labels=self.features)\n",
    "                self.left.fit(X0, y0)\n",
    "                self.right = DecisionTree(\n",
    "                    max_depth=self.max_depth - 1,\n",
    "                    criterion=self.criterion,\n",
    "                    max_features=self.max_features,\n",
    "                    feature_labels=self.features)\n",
    "                self.right.fit(X1, y1)\n",
    "            else:\n",
    "                self.max_depth = 0\n",
    "                self.data, self.labels = X, y\n",
    "                self.pred = stats.mode(y).mode[0]\n",
    "        else:\n",
    "            self.data, self.labels = X, y\n",
    "            self.pred = stats.mode(y).mode[0]\n",
    "        return self\n",
    "\n",
    "    def predict(self, X):\n",
    "        if self.max_depth == 0:\n",
    "            return self.pred * np.ones(X.shape[0])\n",
    "        else:\n",
    "            X0, idx0, X1, idx1 = self.split_test(X, idx=self.split_idx, thresh=self.thresh)\n",
    "            yhat = np.zeros(X.shape[0])\n",
    "            yhat[idx0] = self.left.predict(X0)\n",
    "            yhat[idx1] = self.right.predict(X1)\n",
    "            return yhat\n",
    "\n",
    "\n",
    "class RandomForest:\n",
    "    def __init__(self, num_trees=100, max_features='sqrt',\n",
    "                 bootstrap=True, bootstrap_size=None, params={}):\n",
    "        self.num_trees = num_trees\n",
    "        self.max_features = max_features\n",
    "        self.bootstrap = bootstrap\n",
    "        self.bootstrap_size = bootstrap_size\n",
    "\n",
    "        if self.bootstrap_size:\n",
    "            if not 0 < self.bootstrap_size < 1:\n",
    "                raise ValueError(\n",
    "                    'bootstrap_size must be between 0 and 1, indicating the bootstrap sample ratio')\n",
    "        self.params = params\n",
    "        self.trees = [\n",
    "            DecisionTree(\n",
    "                max_features=self.max_features, **params)\n",
    "            for i in range(self.num_trees)\n",
    "        ]\n",
    "\n",
    "    def generate_idx(self, X):\n",
    "        indexes = []\n",
    "        for i in range(self.num_trees):\n",
    "            if self.bootstrap_size:\n",
    "                sample_size = int(self.bootstrap_size * X.shape[0])\n",
    "                idx = np.random.choice(X.shape[0], sample_size, replace=True)\n",
    "            else:\n",
    "                idx = np.random.choice(X.shape[0], X.shape[0], replace=True)\n",
    "            indexes.append(idx)\n",
    "        return indexes\n",
    "\n",
    "    def generate_samples(self, X, y):\n",
    "        indexes = self.generate_idx(X)\n",
    "        training = [X[idx, :] for idx in indexes]\n",
    "        labels = [y[idx] for idx in indexes]\n",
    "        return training, labels\n",
    "\n",
    "    @staticmethod\n",
    "    def voting(predictions):\n",
    "        majority_vote = []\n",
    "        for i in range(predictions.shape[1]):\n",
    "            sum_votes = sum(predictions[:, i])\n",
    "            if (sum_votes / predictions.shape[0]) >= 0.5:\n",
    "                majority_vote.append(1)\n",
    "            else:\n",
    "                majority_vote.append(0)\n",
    "        return majority_vote\n",
    "\n",
    "    def fit(self, X, y):\n",
    "        if self.bootstrap:\n",
    "            x_samples, y_samples = self.generate_samples(X, y)\n",
    "        else:\n",
    "            x_samples = [X for _ in range(self.num_trees)]\n",
    "            y_samples = [y for _ in range(self.num_trees)]\n",
    "\n",
    "        for i in range(self.num_trees):\n",
    "            self.trees[i].fit(x_samples[i], y_samples[i])\n",
    "\n",
    "    def predict(self, X):\n",
    "        predictions = []\n",
    "        for i in range(self.num_trees):\n",
    "            pred = self.trees[i].predict(X)\n",
    "            predictions.append(pred)\n",
    "        predictions = np.array(predictions)\n",
    "        majority_vote = RandomForest.voting(predictions)\n",
    "        return majority_vote\n"
   ]
  },
  {
   "cell_type": "code",
   "execution_count": 7,
   "metadata": {},
   "outputs": [],
   "source": [
    "def evaluate(model, display=True, provide=False):\n",
    "    model.fit(X_train, y_train)\n",
    "    \n",
    "    train_pred = model.predict(X_train)\n",
    "    train_error = mean_squared_error(y_train, train_pred)\n",
    "    train_error = np.round(np.sqrt(train_error), 3)\n",
    "    \n",
    "    test_pred = model.predict(X_test)\n",
    "    test_error = mean_squared_error(y_test, test_pred)\n",
    "    test_error = np.round(np.sqrt(test_error), 3)\n",
    "    \n",
    "    if display:\n",
    "        print('Training RMSE: {}'.format(train_error))\n",
    "        print('Test RMSE: {}'.format(test_error))    \n",
    "    \n",
    "    if provide:\n",
    "        return train_error, test_error"
   ]
  },
  {
   "cell_type": "markdown",
   "metadata": {},
   "source": [
    "### Decision Tree Bagging"
   ]
  },
  {
   "cell_type": "code",
   "execution_count": 8,
   "metadata": {},
   "outputs": [
    {
     "name": "stdout",
     "output_type": "stream",
     "text": [
      "Training RMSE: 0.253\n",
      "Test RMSE: 0.519\n",
      "Wall time: 9.32 s\n"
     ]
    }
   ],
   "source": [
    "%%time\n",
    "model1 = BaggingRegressor(base_estimator=dt, \n",
    "                         n_estimators=100,\n",
    "                         max_samples=0.7,\n",
    "                         oob_score=True,\n",
    "                         random_state=5)\n",
    "evaluate(model1)"
   ]
  },
  {
   "cell_type": "code",
   "execution_count": 9,
   "metadata": {},
   "outputs": [
    {
     "name": "stdout",
     "output_type": "stream",
     "text": [
      "Training RMSE: 0.253\n",
      "Test RMSE: 0.519\n",
      "Wall time: 6.62 s\n"
     ]
    }
   ],
   "source": [
    "%%time\n",
    "model1 = BaggingRegressor(base_estimator=dt, \n",
    "                         n_estimators=100,\n",
    "                         max_samples=0.7,\n",
    "                         oob_score=True,\n",
    "                         random_state=5, \n",
    "                         n_jobs=-1)\n",
    "evaluate(model1)"
   ]
  },
  {
   "cell_type": "code",
   "execution_count": 10,
   "metadata": {},
   "outputs": [
    {
     "data": {
      "text/plain": [
       "0.8048511603322572"
      ]
     },
     "execution_count": 10,
     "metadata": {},
     "output_type": "execute_result"
    }
   ],
   "source": [
    "model1.oob_score_"
   ]
  },
  {
   "cell_type": "markdown",
   "metadata": {},
   "source": [
    "#### Note:\n",
    "\n",
    "- Using n_jobs parameter dramatically decreases the run time of the algorithm. Setting n_jobs equal to -1 means that all cores are being utilized to run jobs in parallel."
   ]
  },
  {
   "cell_type": "markdown",
   "metadata": {},
   "source": [
    "### A single Decision Tree"
   ]
  },
  {
   "cell_type": "code",
   "execution_count": 8,
   "metadata": {
    "scrolled": true
   },
   "outputs": [
    {
     "name": "stdout",
     "output_type": "stream",
     "text": [
      "Training RMSE: 0.0\n",
      "Test RMSE: 0.72\n"
     ]
    }
   ],
   "source": [
    "evaluate(dt)"
   ]
  },
  {
   "cell_type": "code",
   "execution_count": 12,
   "metadata": {},
   "outputs": [
    {
     "data": {
      "text/plain": [
       "<__main__.DecisionTree at 0x26e43901820>"
      ]
     },
     "execution_count": 12,
     "metadata": {},
     "output_type": "execute_result"
    }
   ],
   "source": [
    "params = {'max_depth': 10, 'criterion': 'gini'}\n",
    "ab = RandomForest(max_features=3. )\n",
    "ab.fit(X_train.to_numpy(), y_train.to_numpy())"
   ]
  },
  {
   "cell_type": "code",
   "execution_count": 14,
   "metadata": {},
   "outputs": [
    {
     "data": {
      "text/plain": [
       "2.482668078063955"
      ]
     },
     "execution_count": 14,
     "metadata": {},
     "output_type": "execute_result"
    }
   ],
   "source": [
    "pred_y = ab.predict(X_test.to_numpy())\n",
    "np.sqrt(mean_squared_error(y_test, pred_y))"
   ]
  },
  {
   "cell_type": "markdown",
   "metadata": {},
   "source": [
    " - As it can be observed from the metrics above, a single fully grown decision tree suffers from overfitting."
   ]
  },
  {
   "cell_type": "markdown",
   "metadata": {},
   "source": [
    "### Random Forest\n",
    "\n",
    "- A random forest with below settings is the same as Bagging Regressor above."
   ]
  },
  {
   "cell_type": "code",
   "execution_count": 12,
   "metadata": {},
   "outputs": [
    {
     "name": "stdout",
     "output_type": "stream",
     "text": [
      "Training RMSE: 0.253\n",
      "Test RMSE: 0.519\n"
     ]
    }
   ],
   "source": [
    "forest = RandomForestRegressor(n_estimators=100, \n",
    "                              oob_score=True,\n",
    "                              max_features=None,\n",
    "                              max_samples=0.7,\n",
    "                              random_state=5,\n",
    "                              n_jobs=-1)\n",
    "evaluate(forest)"
   ]
  },
  {
   "cell_type": "code",
   "execution_count": 13,
   "metadata": {},
   "outputs": [
    {
     "data": {
      "text/plain": [
       "0.8047101645024342"
      ]
     },
     "execution_count": 13,
     "metadata": {},
     "output_type": "execute_result"
    }
   ],
   "source": [
    "forest.oob_score_"
   ]
  },
  {
   "cell_type": "markdown",
   "metadata": {},
   "source": [
    "A random forest algorithm with different paramater values"
   ]
  },
  {
   "cell_type": "code",
   "execution_count": 14,
   "metadata": {},
   "outputs": [],
   "source": [
    "hyperparams = np.arange(1,9,1)\n",
    "\n",
    "train_errors = []\n",
    "test_errors = []\n",
    "for i in hyperparams:\n",
    "    forest = RandomForestRegressor(n_estimators=100, \n",
    "                                  max_depth=20,\n",
    "                                  max_features=i,\n",
    "                                  oob_score=True,\n",
    "                                  random_state=5,\n",
    "                                  n_jobs=-1)\n",
    "    train, test = evaluate(forest, display=False, provide=True)\n",
    "    train_errors.append(train)\n",
    "    test_errors.append(test)"
   ]
  },
  {
   "cell_type": "code",
   "execution_count": 15,
   "metadata": {},
   "outputs": [
    {
     "data": {
      "image/png": "[encoded data removed]",
      "text/plain": [
       "<Figure size 504x360 with 1 Axes>"
      ]
     },
     "metadata": {},
     "output_type": "display_data"
    }
   ],
   "source": [
    "plt.figure(figsize=(7,5))\n",
    "plt.plot(hyperparams, train_errors, label='Training Errors')\n",
    "plt.plot(hyperparams, test_errors, label='Test Errors')\n",
    "plt.legend(fontsize='x-large')\n",
    "plt.xlabel('Number of predictors to consider at each split', fontsize=12)\n",
    "plt.ylabel('RMSE', fontsize=12)\n",
    "plt.title('Number of Predictors versus RMSE', fontsize=14)\n",
    "plt.show();"
   ]
  },
  {
   "cell_type": "code",
   "execution_count": 38,
   "metadata": {},
   "outputs": [
    {
     "name": "stdout",
     "output_type": "stream",
     "text": [
      "Training RMSE: 0.19\n",
      "Test RMSE: 0.502\n"
     ]
    }
   ],
   "source": [
    "forest = RandomForestRegressor(n_estimators=100, \n",
    "                              max_depth=20,\n",
    "                              max_features=3,\n",
    "                              oob_score=True,\n",
    "                              random_state=5,\n",
    "                              n_jobs=-1)\n",
    "evaluate(forest)"
   ]
  },
  {
   "cell_type": "code",
   "execution_count": 17,
   "metadata": {},
   "outputs": [
    {
     "data": {
      "text/plain": [
       "array([0.40434688, 0.05354708, 0.09307806, 0.03899797, 0.03090169,\n",
       "       0.12594902, 0.13101519, 0.12216412])"
      ]
     },
     "execution_count": 17,
     "metadata": {},
     "output_type": "execute_result"
    }
   ],
   "source": [
    "forest.feature_importances_"
   ]
  },
  {
   "cell_type": "code",
   "execution_count": 18,
   "metadata": {
    "scrolled": true
   },
   "outputs": [
    {
     "data": {
      "text/plain": [
       "0.8158274174985554"
      ]
     },
     "execution_count": 18,
     "metadata": {},
     "output_type": "execute_result"
    }
   ],
   "source": [
    "forest.oob_score_"
   ]
  },
  {
   "cell_type": "markdown",
   "metadata": {},
   "source": [
    "##### Note:\n",
    "\n",
    " - Ensemble methods such as Bagging and Random Forest, most of the time, performs better than the single decision tree because they reduce high variance of a single decision tree by combining a certain amount of decision trees. Consequenty, ensemble models do not suffer from overfitting as a single decision tree predictor would. \n",
    "\n",
    "\n",
    " -  Random forest performed better than the bagging algorithm because in bagging algorithm, the produced trees from the bootstrap samples are correlated. This happens because, most of the time, or always, every estimator tree in bagging model will chose the most important predictor as a splitting criteria on the top node; and, therefore, all estimator trees will be similar to each other. However, this is not an issue in Random Forest since only a subset of predictors are considered at each split. Number of predictors to consider at each split is determined by the 'max_features' parameter in the random forest algorithm.\n",
    " \n",
    " \n",
    " - Usually, we set max_features = $\\sqrt{d}$, where d is the number of dimensions/predictors. Although, as usual, cross-validation should be preferable for choosing the max_features."
   ]
  },
  {
   "cell_type": "markdown",
   "metadata": {},
   "source": [
    "#### Out-Of-Bag Observations (OOB)\n",
    "\n",
    "- Some of the bootstrapped samples does not include the observation i from the sample space because we sample with replacement.\n",
    "\n",
    "\n",
    "- The idea is to use corresponding decision trees of those samples to predict i and then take an average (regression) or the majority vote (classification) of those predictions to have an overall prediction of the observation i.\n",
    "\n",
    "\n",
    "- We do this for every observation i in the sample space to obtain a overall OOB RMSE (regression) or OOB error rate (classification).\n",
    "\n",
    "\n",
    "- This technique is more desirable when cross-validation is computationally infeasible.\n",
    "\n",
    "\n",
    "- As it can be seen above, OOB method is a parameter in scikit-learn's bagging and random forest implementation. We need to emphasize **oob_score = True** to use the technique."
   ]
  },
  {
   "cell_type": "code",
   "execution_count": 19,
   "metadata": {},
   "outputs": [],
   "source": [
    "hyperparams = np.arange(1,150,10)\n",
    "\n",
    "oobs = []\n",
    "for i in hyperparams:\n",
    "    forest = RandomForestRegressor(n_estimators=i, \n",
    "                                  max_depth=20,\n",
    "                                  max_features=3,\n",
    "                                  oob_score=True,\n",
    "                                  random_state=5,\n",
    "                                  n_jobs=-1)\n",
    "    forest.fit(X_train, y_train)\n",
    "    oobs.append(forest.oob_score_)"
   ]
  },
  {
   "cell_type": "code",
   "execution_count": 20,
   "metadata": {},
   "outputs": [
    {
     "data": {
      "image/png": "[encoded data removed]",
      "text/plain": [
       "<Figure size 504x360 with 1 Axes>"
      ]
     },
     "metadata": {},
     "output_type": "display_data"
    }
   ],
   "source": [
    "plt.figure(figsize=(7,5))\n",
    "plt.plot(hyperparams, oobs)\n",
    "plt.xlabel('Number of Trees', fontsize=12)\n",
    "plt.ylabel('OOB Score', fontsize=12)\n",
    "plt.title('Number of Trees versus OOB Score', fontsize=14)\n",
    "plt.show();"
   ]
  },
  {
   "cell_type": "markdown",
   "metadata": {},
   "source": [
    "### Boosting"
   ]
  },
  {
   "cell_type": "code",
   "execution_count": 21,
   "metadata": {},
   "outputs": [
    {
     "name": "stdout",
     "output_type": "stream",
     "text": [
      "Training RMSE: 0.303\n",
      "Test RMSE: 0.506\n"
     ]
    }
   ],
   "source": [
    "from sklearn.ensemble import GradientBoostingRegressor\n",
    "from sklearn.ensemble import AdaBoostRegressor\n",
    "\n",
    "base = DecisionTreeRegressor(max_depth=10, random_state=5)\n",
    "ada = AdaBoostRegressor(base_estimator=base, \n",
    "                       n_estimators=100,\n",
    "                       learning_rate=1)\n",
    "evaluate(ada)"
   ]
  },
  {
   "cell_type": "code",
   "execution_count": 39,
   "metadata": {},
   "outputs": [
    {
     "name": "stdout",
     "output_type": "stream",
     "text": [
      "Training RMSE: 0.378\n",
      "Test RMSE: 0.492\n"
     ]
    }
   ],
   "source": [
    "gradient = GradientBoostingRegressor(n_estimators=150,\n",
    "                                    loss='ls',\n",
    "                                    learning_rate=0.1,\n",
    "                                    subsample=0.6,\n",
    "                                    max_features=None,\n",
    "                                    max_depth=5)\n",
    "evaluate(gradient)"
   ]
  },
  {
   "cell_type": "code",
   "execution_count": 40,
   "metadata": {},
   "outputs": [
    {
     "name": "stdout",
     "output_type": "stream",
     "text": [
      "Training RMSE: 0.394\n",
      "Test RMSE: 0.485\n"
     ]
    }
   ],
   "source": [
    "bagdt = BaggingRegressor(base_estimator=gradient, \n",
    "                         n_estimators=100,\n",
    "                         max_samples=0.7,\n",
    "                         oob_score=True,\n",
    "                         random_state=5, \n",
    "                         n_jobs=3)\n",
    "\n",
    "evaluate(bagdt)"
   ]
  },
  {
   "cell_type": "markdown",
   "metadata": {},
   "source": [
    "Running the code below with n_jobs=-1 caused \"Insufficient system resources\" error"
   ]
  },
  {
   "cell_type": "code",
   "execution_count": null,
   "metadata": {
    "scrolled": true
   },
   "outputs": [],
   "source": [
    "bagdt = BaggingRegressor(base_estimator=forest, \n",
    "                         n_estimators=100,\n",
    "                         max_samples=0.7,\n",
    "                         oob_score=True,\n",
    "                         random_state=5, \n",
    "                         n_jobs=3)\n",
    "\n",
    "evaluate(bagdt)"
   ]
  },
  {
   "cell_type": "code",
   "execution_count": null,
   "metadata": {},
   "outputs": [],
   "source": []
  }
 ],
 "metadata": {
  "kernelspec": {
   "display_name": "Python 3",
   "language": "python",
   "name": "python3"
  },
  "language_info": {
   "codemirror_mode": {
    "name": "ipython",
    "version": 3
   },
   "file_extension": ".py",
   "mimetype": "text/x-python",
   "name": "python",
   "nbconvert_exporter": "python",
   "pygments_lexer": "ipython3",
   "version": "3.8.3"
  }
 },
 "nbformat": 4,
 "nbformat_minor": 4
}

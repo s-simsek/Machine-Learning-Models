{
 "cells": [
  {
   "cell_type": "markdown",
   "metadata": {},
   "source": [
    "<h2><center> Decision Trees </center></h2>"
   ]
  },
  {
   "cell_type": "markdown",
   "metadata": {},
   "source": [
    "The main goal of this notebook is to see the differences between a single decision tree, bagging decision tree ensemble, random forest and boosting by using the scikit-learn library"
   ]
  },
  {
   "cell_type": "code",
   "execution_count": 367,
   "metadata": {},
   "outputs": [],
   "source": [
    "import numpy as np\n",
    "import pandas as pd \n",
    "import matplotlib.pyplot as plt\n",
    "import seaborn as sns\n",
    "sns.set()\n",
    "\n",
    "import warnings\n",
    "warnings.filterwarnings('ignore')"
   ]
  },
  {
   "cell_type": "code",
   "execution_count": 27,
   "metadata": {},
   "outputs": [
    {
     "name": "stdout",
     "output_type": "stream",
     "text": [
      "<class 'pandas.core.frame.DataFrame'>\n",
      "RangeIndex: 20640 entries, 0 to 20639\n",
      "Data columns (total 8 columns):\n",
      " #   Column      Non-Null Count  Dtype  \n",
      "---  ------      --------------  -----  \n",
      " 0   MedInc      20640 non-null  float64\n",
      " 1   HouseAge    20640 non-null  float64\n",
      " 2   AveRooms    20640 non-null  float64\n",
      " 3   AveBedrms   20640 non-null  float64\n",
      " 4   Population  20640 non-null  float64\n",
      " 5   AveOccup    20640 non-null  float64\n",
      " 6   Latitude    20640 non-null  float64\n",
      " 7   Longitude   20640 non-null  float64\n",
      "dtypes: float64(8)\n",
      "memory usage: 1.3 MB\n"
     ]
    }
   ],
   "source": [
    "from sklearn.datasets import fetch_california_housing as cal \n",
    "\n",
    "data = cal(as_frame=True)\n",
    "X = data['data']\n",
    "y = data['target']\n",
    "\n",
    "X.info()"
   ]
  },
  {
   "cell_type": "code",
   "execution_count": 7,
   "metadata": {},
   "outputs": [
    {
     "data": {
      "text/html": [
       "<div>\n",
       "<style scoped>\n",
       "    .dataframe tbody tr th:only-of-type {\n",
       "        vertical-align: middle;\n",
       "    }\n",
       "\n",
       "    .dataframe tbody tr th {\n",
       "        vertical-align: top;\n",
       "    }\n",
       "\n",
       "    .dataframe thead th {\n",
       "        text-align: right;\n",
       "    }\n",
       "</style>\n",
       "<table border=\"1\" class=\"dataframe\">\n",
       "  <thead>\n",
       "    <tr style=\"text-align: right;\">\n",
       "      <th></th>\n",
       "      <th>MedInc</th>\n",
       "      <th>HouseAge</th>\n",
       "      <th>AveRooms</th>\n",
       "      <th>AveBedrms</th>\n",
       "      <th>Population</th>\n",
       "      <th>AveOccup</th>\n",
       "      <th>Latitude</th>\n",
       "      <th>Longitude</th>\n",
       "    </tr>\n",
       "  </thead>\n",
       "  <tbody>\n",
       "    <tr>\n",
       "      <th>0</th>\n",
       "      <td>8.3252</td>\n",
       "      <td>41.0</td>\n",
       "      <td>6.984127</td>\n",
       "      <td>1.023810</td>\n",
       "      <td>322.0</td>\n",
       "      <td>2.555556</td>\n",
       "      <td>37.88</td>\n",
       "      <td>-122.23</td>\n",
       "    </tr>\n",
       "    <tr>\n",
       "      <th>1</th>\n",
       "      <td>8.3014</td>\n",
       "      <td>21.0</td>\n",
       "      <td>6.238137</td>\n",
       "      <td>0.971880</td>\n",
       "      <td>2401.0</td>\n",
       "      <td>2.109842</td>\n",
       "      <td>37.86</td>\n",
       "      <td>-122.22</td>\n",
       "    </tr>\n",
       "    <tr>\n",
       "      <th>2</th>\n",
       "      <td>7.2574</td>\n",
       "      <td>52.0</td>\n",
       "      <td>8.288136</td>\n",
       "      <td>1.073446</td>\n",
       "      <td>496.0</td>\n",
       "      <td>2.802260</td>\n",
       "      <td>37.85</td>\n",
       "      <td>-122.24</td>\n",
       "    </tr>\n",
       "    <tr>\n",
       "      <th>3</th>\n",
       "      <td>5.6431</td>\n",
       "      <td>52.0</td>\n",
       "      <td>5.817352</td>\n",
       "      <td>1.073059</td>\n",
       "      <td>558.0</td>\n",
       "      <td>2.547945</td>\n",
       "      <td>37.85</td>\n",
       "      <td>-122.25</td>\n",
       "    </tr>\n",
       "    <tr>\n",
       "      <th>4</th>\n",
       "      <td>3.8462</td>\n",
       "      <td>52.0</td>\n",
       "      <td>6.281853</td>\n",
       "      <td>1.081081</td>\n",
       "      <td>565.0</td>\n",
       "      <td>2.181467</td>\n",
       "      <td>37.85</td>\n",
       "      <td>-122.25</td>\n",
       "    </tr>\n",
       "  </tbody>\n",
       "</table>\n",
       "</div>"
      ],
      "text/plain": [
       "   MedInc  HouseAge  AveRooms  AveBedrms  Population  AveOccup  Latitude  \\\n",
       "0  8.3252      41.0  6.984127   1.023810       322.0  2.555556     37.88   \n",
       "1  8.3014      21.0  6.238137   0.971880      2401.0  2.109842     37.86   \n",
       "2  7.2574      52.0  8.288136   1.073446       496.0  2.802260     37.85   \n",
       "3  5.6431      52.0  5.817352   1.073059       558.0  2.547945     37.85   \n",
       "4  3.8462      52.0  6.281853   1.081081       565.0  2.181467     37.85   \n",
       "\n",
       "   Longitude  \n",
       "0    -122.23  \n",
       "1    -122.22  \n",
       "2    -122.24  \n",
       "3    -122.25  \n",
       "4    -122.25  "
      ]
     },
     "execution_count": 7,
     "metadata": {},
     "output_type": "execute_result"
    }
   ],
   "source": [
    "X.head()"
   ]
  },
  {
   "cell_type": "code",
   "execution_count": 8,
   "metadata": {
    "scrolled": true
   },
   "outputs": [
    {
     "data": {
      "text/plain": [
       "0    4.526\n",
       "1    3.585\n",
       "2    3.521\n",
       "3    3.413\n",
       "4    3.422\n",
       "Name: MedHouseVal, dtype: float64"
      ]
     },
     "execution_count": 8,
     "metadata": {},
     "output_type": "execute_result"
    }
   ],
   "source": [
    "y.head()"
   ]
  },
  {
   "cell_type": "code",
   "execution_count": 110,
   "metadata": {},
   "outputs": [],
   "source": [
    "from sklearn.model_selection import train_test_split\n",
    "\n",
    "X_train, X_test, y_train, y_test = train_test_split(X, y,\n",
    "                                                   test_size=0.30)"
   ]
  },
  {
   "cell_type": "code",
   "execution_count": 149,
   "metadata": {},
   "outputs": [],
   "source": [
    "from sklearn.ensemble import BaggingRegressor\n",
    "from sklearn.ensemble import RandomForestRegressor\n",
    "from sklearn.tree import DecisionTreeRegressor\n",
    "from sklearn.metrics import mean_squared_error\n",
    "\n",
    "dt = DecisionTreeRegressor()"
   ]
  },
  {
   "cell_type": "code",
   "execution_count": 276,
   "metadata": {},
   "outputs": [],
   "source": [
    "def evaluate(model, display=True, provide=False):\n",
    "    model.fit(X_train, y_train)\n",
    "    \n",
    "    train_pred = model.predict(X_train)\n",
    "    train_error = mean_squared_error(y_train, train_pred)\n",
    "    train_error = np.round(np.sqrt(train_error), 3)\n",
    "    \n",
    "    test_pred = model.predict(X_test)\n",
    "    test_error = mean_squared_error(y_test, test_pred)\n",
    "    test_error = np.round(np.sqrt(test_error), 3)\n",
    "    \n",
    "    if display:\n",
    "        print('Training RMSE: {}'.format(train_error))\n",
    "        print('Test RMSE: {}'.format(test_error))    \n",
    "    \n",
    "    if provide:\n",
    "        return train_error, test_error"
   ]
  },
  {
   "cell_type": "markdown",
   "metadata": {},
   "source": [
    "### Decision Tree Bagging"
   ]
  },
  {
   "cell_type": "code",
   "execution_count": 151,
   "metadata": {},
   "outputs": [
    {
     "name": "stdout",
     "output_type": "stream",
     "text": [
      "Training RMSE: 0.258\n",
      "Test RMSE: 0.534\n",
      "Wall time: 8.48 s\n"
     ]
    }
   ],
   "source": [
    "%%time\n",
    "model1 = BaggingRegressor(base_estimator=dt, \n",
    "                         n_estimators=100,\n",
    "                         max_samples=0.7,\n",
    "                         oob_score=True,\n",
    "                         random_state=5)\n",
    "evaluate(model1)"
   ]
  },
  {
   "cell_type": "code",
   "execution_count": 154,
   "metadata": {},
   "outputs": [
    {
     "name": "stdout",
     "output_type": "stream",
     "text": [
      "Training RMSE: 0.258\n",
      "Test RMSE: 0.534\n",
      "Wall time: 3.61 s\n"
     ]
    }
   ],
   "source": [
    "%%time\n",
    "model1 = BaggingRegressor(base_estimator=dt, \n",
    "                         n_estimators=100,\n",
    "                         max_samples=0.7,\n",
    "                         oob_score=True,\n",
    "                         random_state=5, \n",
    "                         n_jobs=-1)\n",
    "evaluate(model1)"
   ]
  },
  {
   "cell_type": "code",
   "execution_count": 153,
   "metadata": {},
   "outputs": [
    {
     "data": {
      "text/plain": [
       "0.7965963764353402"
      ]
     },
     "execution_count": 153,
     "metadata": {},
     "output_type": "execute_result"
    }
   ],
   "source": [
    "model1.oob_score_"
   ]
  },
  {
   "cell_type": "markdown",
   "metadata": {},
   "source": [
    "#### Note:\n",
    "\n",
    "- Using n_jobs parameter dramatically decreases the run time of the algorithm. Setting n_jobs equal to -1 means that all cores are being utilized to run jobs in parallel."
   ]
  },
  {
   "cell_type": "markdown",
   "metadata": {},
   "source": [
    "### A single Decision Tree"
   ]
  },
  {
   "cell_type": "code",
   "execution_count": 155,
   "metadata": {
    "scrolled": true
   },
   "outputs": [
    {
     "name": "stdout",
     "output_type": "stream",
     "text": [
      "Training RMSE: 0.0\n",
      "Test RMSE: 0.727\n"
     ]
    }
   ],
   "source": [
    "evaluate(dt)"
   ]
  },
  {
   "cell_type": "markdown",
   "metadata": {},
   "source": [
    " - As it can be observed from the metrics above, a single fully grown decision tree suffers from overfitting."
   ]
  },
  {
   "cell_type": "markdown",
   "metadata": {},
   "source": [
    "### Random Forest\n",
    "\n",
    "- A random forest with below settings is the same as Bagging Regressor above."
   ]
  },
  {
   "cell_type": "code",
   "execution_count": 194,
   "metadata": {},
   "outputs": [
    {
     "name": "stdout",
     "output_type": "stream",
     "text": [
      "Training RMSE: 0.258\n",
      "Test RMSE: 0.533\n"
     ]
    }
   ],
   "source": [
    "forest = RandomForestRegressor(n_estimators=100, \n",
    "                              oob_score=True,\n",
    "                              max_features=None,\n",
    "                              max_samples=0.7,\n",
    "                              random_state=5,\n",
    "                              n_jobs=-1)\n",
    "evaluate(forest)"
   ]
  },
  {
   "cell_type": "code",
   "execution_count": 195,
   "metadata": {},
   "outputs": [
    {
     "data": {
      "text/plain": [
       "0.7965105795967392"
      ]
     },
     "execution_count": 195,
     "metadata": {},
     "output_type": "execute_result"
    }
   ],
   "source": [
    "forest.oob_score_"
   ]
  },
  {
   "cell_type": "markdown",
   "metadata": {},
   "source": [
    "A random forest algorithm with different paramater values"
   ]
  },
  {
   "cell_type": "code",
   "execution_count": 352,
   "metadata": {},
   "outputs": [],
   "source": [
    "hyperparams = np.arange(1,9,1)\n",
    "\n",
    "train_errors = []\n",
    "test_errors = []\n",
    "for i in hyperparams:\n",
    "    forest = RandomForestRegressor(n_estimators=100, \n",
    "                                  max_depth=20,\n",
    "                                  max_features=i,\n",
    "                                  oob_score=True,\n",
    "                                  random_state=5,\n",
    "                                  n_jobs=-1)\n",
    "    train, test = evaluate(forest, display=False, provide=True)\n",
    "    train_errors.append(train)\n",
    "    test_errors.append(test)"
   ]
  },
  {
   "cell_type": "code",
   "execution_count": 360,
   "metadata": {},
   "outputs": [
    {
     "data": {
      "image/png": "[encoded data removed]",
      "text/plain": [
       "<Figure size 504x360 with 1 Axes>"
      ]
     },
     "metadata": {},
     "output_type": "display_data"
    }
   ],
   "source": [
    "plt.figure(figsize=(7,5))\n",
    "plt.plot(hyperparams, train_errors, label='Training Errors')\n",
    "plt.plot(hyperparams, test_errors, label='Test Errors')\n",
    "plt.legend(fontsize='x-large')\n",
    "plt.xlabel('Number of predictors to consider at each split', fontsize=12)\n",
    "plt.ylabel('RMSE', fontsize=12)\n",
    "plt.title('Number of Predictors versus RMSE', fontsize=14)\n",
    "plt.show();"
   ]
  },
  {
   "cell_type": "code",
   "execution_count": 364,
   "metadata": {},
   "outputs": [
    {
     "name": "stdout",
     "output_type": "stream",
     "text": [
      "Training RMSE: 0.19\n",
      "Test RMSE: 0.508\n"
     ]
    }
   ],
   "source": [
    "forest = RandomForestRegressor(n_estimators=100, \n",
    "                              max_depth=20,\n",
    "                              max_features=3,\n",
    "                              oob_score=True,\n",
    "                              random_state=5,\n",
    "                              n_jobs=-1)\n",
    "evaluate(forest)"
   ]
  },
  {
   "cell_type": "code",
   "execution_count": 365,
   "metadata": {},
   "outputs": [
    {
     "data": {
      "text/plain": [
       "array([0.41285605, 0.05391469, 0.09366877, 0.03916153, 0.0322024 ,\n",
       "       0.12590808, 0.12147369, 0.1208148 ])"
      ]
     },
     "execution_count": 365,
     "metadata": {},
     "output_type": "execute_result"
    }
   ],
   "source": [
    "forest.feature_importances_"
   ]
  },
  {
   "cell_type": "code",
   "execution_count": 366,
   "metadata": {
    "scrolled": true
   },
   "outputs": [
    {
     "data": {
      "text/plain": [
       "0.8141401976739362"
      ]
     },
     "execution_count": 366,
     "metadata": {},
     "output_type": "execute_result"
    }
   ],
   "source": [
    "forest.oob_score_"
   ]
  },
  {
   "cell_type": "markdown",
   "metadata": {},
   "source": [
    "##### Note:\n",
    "\n",
    " - Ensemble methods such as Bagging and Random Forest, most of the time, performs better than the single decision tree because they reduce high variance of a single decision tree by combining a certain amount of decision trees. Consequenty, ensemble models do not suffer from overfitting as a single decision tree predictor would. \n",
    "\n",
    "\n",
    " -  Random forest performed better than the bagging algorithm because in bagging algorithm, the produced trees from the bootstrap samples are correlated. This happens because, most of the time, or always, every estimator tree in bagging model will chose the most important predictor as a splitting criteria on the top node; and, therefore, all estimator trees will be similar to each other. However, this is not an issue in Random Forest since only a subset of predictors are considered at each split. Number of predictors to consider at each split is determined by the 'max_features' parameter in the random forest algorithm.\n",
    " \n",
    " \n",
    " - Usually, we set max_features = $\\sqrt{d}$, where d is the number of dimensions/predictors. Although, as usual, cross-validation should be preferable for choosing the max_features."
   ]
  },
  {
   "cell_type": "markdown",
   "metadata": {},
   "source": [
    "#### Out-Of-Bag Observations (OOB)\n",
    "\n",
    "- Some of the bootstrapped samples does not include the observation i from the sample space because we sample with replacement.\n",
    "\n",
    "\n",
    "- The idea is to use corresponding decision trees of those samples to predict i and then take an average (regression) or the majority vote (classification) of those predictions to have an overall prediction of the observation i.\n",
    "\n",
    "\n",
    "- We do this for every observation i in the sample space to obtain a overall OOB RMSE (regression) or OOB error rate (classification).\n",
    "\n",
    "\n",
    "- This technique is more desirable when cross-validation is computationally infeasible.\n",
    "\n",
    "\n",
    "- As it can be seen above, OOB method is a parameter in scikit-learn's bagging and random forest implementation. We need to emphasize **oob_score = True** to use the technique."
   ]
  },
  {
   "cell_type": "code",
   "execution_count": 368,
   "metadata": {},
   "outputs": [],
   "source": [
    "hyperparams = np.arange(1,150,10)\n",
    "\n",
    "oobs = []\n",
    "for i in hyperparams:\n",
    "    forest = RandomForestRegressor(n_estimators=i, \n",
    "                                  max_depth=20,\n",
    "                                  max_features=3,\n",
    "                                  oob_score=True,\n",
    "                                  random_state=5,\n",
    "                                  n_jobs=-1)\n",
    "    forest.fit(X_train, y_train)\n",
    "    oobs.append(forest.oob_score_)"
   ]
  },
  {
   "cell_type": "code",
   "execution_count": 372,
   "metadata": {},
   "outputs": [
    {
     "data": {
      "image/png": "[encoded data removed]",
      "text/plain": [
       "<Figure size 504x360 with 1 Axes>"
      ]
     },
     "metadata": {},
     "output_type": "display_data"
    }
   ],
   "source": [
    "plt.figure(figsize=(7,5))\n",
    "plt.plot(hyperparams, oobs)\n",
    "plt.xlabel('Number of Trees', fontsize=12)\n",
    "plt.ylabel('OOB Score', fontsize=12)\n",
    "plt.title('Number of Trees versus OOB Score', fontsize=14)\n",
    "plt.show();"
   ]
  },
  {
   "cell_type": "markdown",
   "metadata": {},
   "source": [
    "### Boosting"
   ]
  },
  {
   "cell_type": "code",
   "execution_count": 374,
   "metadata": {},
   "outputs": [
    {
     "name": "stdout",
     "output_type": "stream",
     "text": [
      "Training RMSE: 0.316\n",
      "Test RMSE: 0.517\n"
     ]
    }
   ],
   "source": [
    "from sklearn.ensemble import GradientBoostingRegressor\n",
    "from sklearn.ensemble import AdaBoostRegressor\n",
    "\n",
    "base = DecisionTreeRegressor(max_depth=10, random_state=5)\n",
    "ada = AdaBoostRegressor(base_estimator=base, \n",
    "                       n_estimators=100,\n",
    "                       learning_rate=1)\n",
    "evaluate(ada)"
   ]
  },
  {
   "cell_type": "code",
   "execution_count": 386,
   "metadata": {},
   "outputs": [
    {
     "name": "stdout",
     "output_type": "stream",
     "text": [
      "Training RMSE: 0.404\n",
      "Test RMSE: 0.502\n"
     ]
    }
   ],
   "source": [
    "gradient = GradientBoostingRegressor(n_estimators=100,\n",
    "                                    learning_rate=0.1,\n",
    "                                    max_features=None,\n",
    "                                    max_depth=5)\n",
    "evaluate(gradient)"
   ]
  }
 ],
 "metadata": {
  "kernelspec": {
   "display_name": "Python 3",
   "language": "python",
   "name": "python3"
  },
  "language_info": {
   "codemirror_mode": {
    "name": "ipython",
    "version": 3
   },
   "file_extension": ".py",
   "mimetype": "text/x-python",
   "name": "python",
   "nbconvert_exporter": "python",
   "pygments_lexer": "ipython3",
   "version": "3.8.3"
  }
 },
 "nbformat": 4,
 "nbformat_minor": 4
}
